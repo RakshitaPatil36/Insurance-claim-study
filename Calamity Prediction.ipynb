{
 "cells": [
  {
   "cell_type": "code",
   "execution_count": 1,
   "id": "1c308b61",
   "metadata": {},
   "outputs": [],
   "source": [
    "import numpy as np\n",
    "import pandas as pd\n",
    "import matplotlib.pyplot as plt\n",
    "import seaborn as sns\n",
    "import warnings \n",
    "warnings.filterwarnings('ignore')"
   ]
  },
  {
   "cell_type": "code",
   "execution_count": 2,
   "id": "3803611c",
   "metadata": {},
   "outputs": [],
   "source": [
    "data=pd.read_excel(\"Losses.xlsx\")"
   ]
  },
  {
   "cell_type": "code",
   "execution_count": 3,
   "id": "c654b267",
   "metadata": {},
   "outputs": [
    {
     "data": {
      "text/html": [
       "<div>\n",
       "<style scoped>\n",
       "    .dataframe tbody tr th:only-of-type {\n",
       "        vertical-align: middle;\n",
       "    }\n",
       "\n",
       "    .dataframe tbody tr th {\n",
       "        vertical-align: top;\n",
       "    }\n",
       "\n",
       "    .dataframe thead th {\n",
       "        text-align: right;\n",
       "    }\n",
       "</style>\n",
       "<table border=\"1\" class=\"dataframe\">\n",
       "  <thead>\n",
       "    <tr style=\"text-align: right;\">\n",
       "      <th></th>\n",
       "      <th>DAY</th>\n",
       "      <th>MONTH</th>\n",
       "      <th>MONTH_ID</th>\n",
       "      <th>YEAR</th>\n",
       "      <th>CAUSE</th>\n",
       "      <th>GROSS INCURRED AMOUNT</th>\n",
       "    </tr>\n",
       "  </thead>\n",
       "  <tbody>\n",
       "    <tr>\n",
       "      <th>0</th>\n",
       "      <td>1.0</td>\n",
       "      <td>January</td>\n",
       "      <td>1.0</td>\n",
       "      <td>1999.0</td>\n",
       "      <td>WINDSTORM</td>\n",
       "      <td>477.88</td>\n",
       "    </tr>\n",
       "    <tr>\n",
       "      <th>1</th>\n",
       "      <td>1.0</td>\n",
       "      <td>January</td>\n",
       "      <td>1.0</td>\n",
       "      <td>1999.0</td>\n",
       "      <td>FIRE</td>\n",
       "      <td>700.00</td>\n",
       "    </tr>\n",
       "    <tr>\n",
       "      <th>2</th>\n",
       "      <td>1.0</td>\n",
       "      <td>January</td>\n",
       "      <td>1.0</td>\n",
       "      <td>1999.0</td>\n",
       "      <td>WINDSTORM</td>\n",
       "      <td>99.87</td>\n",
       "    </tr>\n",
       "    <tr>\n",
       "      <th>3</th>\n",
       "      <td>1.0</td>\n",
       "      <td>January</td>\n",
       "      <td>1.0</td>\n",
       "      <td>1999.0</td>\n",
       "      <td>WINDSTORM</td>\n",
       "      <td>139.80</td>\n",
       "    </tr>\n",
       "    <tr>\n",
       "      <th>4</th>\n",
       "      <td>1.0</td>\n",
       "      <td>January</td>\n",
       "      <td>1.0</td>\n",
       "      <td>1999.0</td>\n",
       "      <td>WINDSTORM</td>\n",
       "      <td>548.66</td>\n",
       "    </tr>\n",
       "    <tr>\n",
       "      <th>...</th>\n",
       "      <td>...</td>\n",
       "      <td>...</td>\n",
       "      <td>...</td>\n",
       "      <td>...</td>\n",
       "      <td>...</td>\n",
       "      <td>...</td>\n",
       "    </tr>\n",
       "    <tr>\n",
       "      <th>47560</th>\n",
       "      <td>28.0</td>\n",
       "      <td>December</td>\n",
       "      <td>12.0</td>\n",
       "      <td>2007.0</td>\n",
       "      <td>FLOOD</td>\n",
       "      <td>1051.00</td>\n",
       "    </tr>\n",
       "    <tr>\n",
       "      <th>47561</th>\n",
       "      <td>29.0</td>\n",
       "      <td>December</td>\n",
       "      <td>12.0</td>\n",
       "      <td>2007.0</td>\n",
       "      <td>ACCIDENTAL DAMAGE</td>\n",
       "      <td>461.00</td>\n",
       "    </tr>\n",
       "    <tr>\n",
       "      <th>47562</th>\n",
       "      <td>29.0</td>\n",
       "      <td>December</td>\n",
       "      <td>12.0</td>\n",
       "      <td>2007.0</td>\n",
       "      <td>FLOOD</td>\n",
       "      <td>1051.00</td>\n",
       "    </tr>\n",
       "    <tr>\n",
       "      <th>47563</th>\n",
       "      <td>29.0</td>\n",
       "      <td>December</td>\n",
       "      <td>12.0</td>\n",
       "      <td>2007.0</td>\n",
       "      <td>FLOOD</td>\n",
       "      <td>1051.00</td>\n",
       "    </tr>\n",
       "    <tr>\n",
       "      <th>47564</th>\n",
       "      <td>29.0</td>\n",
       "      <td>December</td>\n",
       "      <td>12.0</td>\n",
       "      <td>2007.0</td>\n",
       "      <td>ACCIDENTAL DAMAGE</td>\n",
       "      <td>461.00</td>\n",
       "    </tr>\n",
       "  </tbody>\n",
       "</table>\n",
       "<p>47565 rows × 6 columns</p>\n",
       "</div>"
      ],
      "text/plain": [
       "        DAY     MONTH  MONTH_ID    YEAR              CAUSE  \\\n",
       "0       1.0   January       1.0  1999.0          WINDSTORM   \n",
       "1       1.0   January       1.0  1999.0               FIRE   \n",
       "2       1.0   January       1.0  1999.0          WINDSTORM   \n",
       "3       1.0   January       1.0  1999.0          WINDSTORM   \n",
       "4       1.0   January       1.0  1999.0          WINDSTORM   \n",
       "...     ...       ...       ...     ...                ...   \n",
       "47560  28.0  December      12.0  2007.0    FLOOD             \n",
       "47561  29.0  December      12.0  2007.0  ACCIDENTAL DAMAGE   \n",
       "47562  29.0  December      12.0  2007.0    FLOOD             \n",
       "47563  29.0  December      12.0  2007.0    FLOOD             \n",
       "47564  29.0  December      12.0  2007.0  ACCIDENTAL DAMAGE   \n",
       "\n",
       "       GROSS INCURRED AMOUNT  \n",
       "0                     477.88  \n",
       "1                     700.00  \n",
       "2                      99.87  \n",
       "3                     139.80  \n",
       "4                     548.66  \n",
       "...                      ...  \n",
       "47560                1051.00  \n",
       "47561                 461.00  \n",
       "47562                1051.00  \n",
       "47563                1051.00  \n",
       "47564                 461.00  \n",
       "\n",
       "[47565 rows x 6 columns]"
      ]
     },
     "execution_count": 3,
     "metadata": {},
     "output_type": "execute_result"
    }
   ],
   "source": [
    "data"
   ]
  },
  {
   "cell_type": "markdown",
   "id": "53af6e3f",
   "metadata": {},
   "source": [
    "### Q1. What are the total claims by year and what trends are there? What could be driving these trends?\n",
    "a.What are the total value of claims by year?\n",
    "\n",
    "b.What factors, internal and external to the insurer, could be driving any trends that you have identified?"
   ]
  },
  {
   "cell_type": "code",
   "execution_count": 4,
   "id": "551508c3",
   "metadata": {},
   "outputs": [
    {
     "data": {
      "text/plain": [
       "YEAR\n",
       "1999.0     1505461.74\n",
       "2000.0     3337319.82\n",
       "2001.0     3536859.59\n",
       "2002.0     3281628.01\n",
       "2003.0     3137249.46\n",
       "2004.0     4034545.31\n",
       "2005.0     6271443.43\n",
       "2006.0     9892171.66\n",
       "2007.0    16012815.90\n",
       "Name: GROSS INCURRED AMOUNT, dtype: float64"
      ]
     },
     "execution_count": 4,
     "metadata": {},
     "output_type": "execute_result"
    }
   ],
   "source": [
    "df=data.groupby([\"YEAR\"])[\"GROSS INCURRED AMOUNT\"].sum()\n",
    "df"
   ]
  },
  {
   "cell_type": "markdown",
   "id": "a6d41651",
   "metadata": {},
   "source": [
    "### graphical representation"
   ]
  },
  {
   "cell_type": "code",
   "execution_count": 5,
   "id": "2b07bf98",
   "metadata": {},
   "outputs": [
    {
     "data": {
      "image/png": "[encoded data removed]",
      "text/plain": [
       "<Figure size 432x288 with 1 Axes>"
      ]
     },
     "metadata": {
      "needs_background": "light"
     },
     "output_type": "display_data"
    }
   ],
   "source": [
    "data.groupby([\"YEAR\"])[\"GROSS INCURRED AMOUNT\"].sum().plot(kind=\"bar\",color=\"y\")\n",
    "\n",
    "plt.ylabel(\"Claim Value\")\n",
    "plt.title(\"Claims distribution per year\")\n",
    "plt.show()"
   ]
  },
  {
   "cell_type": "markdown",
   "id": "a603115c",
   "metadata": {},
   "source": [
    "# PIE CHART"
   ]
  },
  {
   "cell_type": "code",
   "execution_count": 6,
   "id": "b401baf8",
   "metadata": {},
   "outputs": [
    {
     "data": {
      "image/png": "[encoded data removed]",
      "text/plain": [
       "<Figure size 648x648 with 1 Axes>"
      ]
     },
     "metadata": {},
     "output_type": "display_data"
    }
   ],
   "source": [
    "plt.figure(figsize=(9,9))\n",
    "plt.title(\"Annual Claims Distribution\")\n",
    "plt.pie(x=data.groupby([\"YEAR\"])[\"GROSS INCURRED AMOUNT\"].sum(),explode=[0,0,0,0, 0, 0, 0,0, 0.1],labels=[1999, 2000, 2001, 2002, 2003, 2004, 2005, 2006, 2007],autopct='%.1f%%')\n",
    "plt.show()"
   ]
  },
  {
   "cell_type": "code",
   "execution_count": null,
   "id": "d68eb708",
   "metadata": {},
   "outputs": [],
   "source": []
  },
  {
   "cell_type": "code",
   "execution_count": null,
   "id": "04f838be",
   "metadata": {},
   "outputs": [],
   "source": []
  },
  {
   "cell_type": "markdown",
   "id": "b0f7353f",
   "metadata": {},
   "source": [
    "## b.What factors, internal and external to the insurer, could be driving any trends that you have identified?"
   ]
  },
  {
   "cell_type": "code",
   "execution_count": 7,
   "id": "9c8d00d7",
   "metadata": {},
   "outputs": [
    {
     "data": {
      "image/png": "[encoded data removed]",
      "text/plain": [
       "<Figure size 648x648 with 1 Axes>"
      ]
     },
     "metadata": {
      "needs_background": "light"
     },
     "output_type": "display_data"
    }
   ],
   "source": [
    "plt.figure(figsize=(9,9))\n",
    "sns.barplot(x=data[\"YEAR\"],y=data[\"GROSS INCURRED AMOUNT\"],hue=data[\"CAUSE\"])\n",
    "plt.title(\"Trends Representation\")\n",
    "plt.show()\n"
   ]
  },
  {
   "cell_type": "markdown",
   "id": "76759d56",
   "metadata": {},
   "source": [
    "# Q2. Which perils should the company worry about most and why?\n",
    "Which claim types (perils) have the greatest average annual frequency and severity?  \n",
    "\n",
    "\n",
    "What is the average individual claim size by peril across the 9-year time period?\n"
   ]
  },
  {
   "cell_type": "markdown",
   "id": "cbfbc1c2",
   "metadata": {},
   "source": [
    "# Which claim types (perils) have the greatest average annual frequency and severity?"
   ]
  },
  {
   "cell_type": "code",
   "execution_count": 8,
   "id": "d78d7ac4",
   "metadata": {},
   "outputs": [
    {
     "data": {
      "text/html": [
       "<div>\n",
       "<style scoped>\n",
       "    .dataframe tbody tr th:only-of-type {\n",
       "        vertical-align: middle;\n",
       "    }\n",
       "\n",
       "    .dataframe tbody tr th {\n",
       "        vertical-align: top;\n",
       "    }\n",
       "\n",
       "    .dataframe thead th {\n",
       "        text-align: right;\n",
       "    }\n",
       "</style>\n",
       "<table border=\"1\" class=\"dataframe\">\n",
       "  <thead>\n",
       "    <tr style=\"text-align: right;\">\n",
       "      <th></th>\n",
       "      <th>DAY</th>\n",
       "    </tr>\n",
       "    <tr>\n",
       "      <th>CAUSE</th>\n",
       "      <th></th>\n",
       "    </tr>\n",
       "  </thead>\n",
       "  <tbody>\n",
       "    <tr>\n",
       "      <th>EARTHQUAKE</th>\n",
       "      <td>26.637681</td>\n",
       "    </tr>\n",
       "    <tr>\n",
       "      <th>WINDSTORM</th>\n",
       "      <td>15.953279</td>\n",
       "    </tr>\n",
       "    <tr>\n",
       "      <th>THEFT</th>\n",
       "      <td>15.740217</td>\n",
       "    </tr>\n",
       "    <tr>\n",
       "      <th>FIRE</th>\n",
       "      <td>15.067937</td>\n",
       "    </tr>\n",
       "    <tr>\n",
       "      <th>FLOOD</th>\n",
       "      <td>14.942029</td>\n",
       "    </tr>\n",
       "    <tr>\n",
       "      <th>ACCIDENTAL DAMAGE</th>\n",
       "      <td>14.861057</td>\n",
       "    </tr>\n",
       "    <tr>\n",
       "      <th>ESCAPE OF WATER</th>\n",
       "      <td>14.576942</td>\n",
       "    </tr>\n",
       "    <tr>\n",
       "      <th>SUBSIDENCE</th>\n",
       "      <td>10.625917</td>\n",
       "    </tr>\n",
       "  </tbody>\n",
       "</table>\n",
       "</div>"
      ],
      "text/plain": [
       "                         DAY\n",
       "CAUSE                       \n",
       "EARTHQUAKE         26.637681\n",
       "WINDSTORM          15.953279\n",
       "THEFT              15.740217\n",
       "FIRE               15.067937\n",
       "FLOOD              14.942029\n",
       "ACCIDENTAL DAMAGE  14.861057\n",
       "ESCAPE OF WATER    14.576942\n",
       "SUBSIDENCE         10.625917"
      ]
     },
     "execution_count": 8,
     "metadata": {},
     "output_type": "execute_result"
    }
   ],
   "source": [
    "tr=pd.pivot_table(data,index=\"CAUSE\",values=\"DAY\",aggfunc=np.mean)\n",
    "tr.sort_values(by=\"DAY\",ascending=False)"
   ]
  },
  {
   "cell_type": "code",
   "execution_count": 9,
   "id": "3f811a01",
   "metadata": {},
   "outputs": [
    {
     "data": {
      "image/png": "[encoded data removed]",
      "text/plain": [
       "<Figure size 432x288 with 1 Axes>"
      ]
     },
     "metadata": {
      "needs_background": "light"
     },
     "output_type": "display_data"
    }
   ],
   "source": [
    "tr.plot(kind=\"bar\",color=\"m\")\n",
    "plt.title(\"Avg freq of claims\")\n",
    "plt.ylabel(\"No. of Occurence\")\n",
    "plt.show()"
   ]
  },
  {
   "cell_type": "code",
   "execution_count": 10,
   "id": "389fc7f5",
   "metadata": {},
   "outputs": [
    {
     "data": {
      "text/html": [
       "<div>\n",
       "<style scoped>\n",
       "    .dataframe tbody tr th:only-of-type {\n",
       "        vertical-align: middle;\n",
       "    }\n",
       "\n",
       "    .dataframe tbody tr th {\n",
       "        vertical-align: top;\n",
       "    }\n",
       "\n",
       "    .dataframe thead th {\n",
       "        text-align: right;\n",
       "    }\n",
       "</style>\n",
       "<table border=\"1\" class=\"dataframe\">\n",
       "  <thead>\n",
       "    <tr style=\"text-align: right;\">\n",
       "      <th>CAUSE</th>\n",
       "      <th>ACCIDENTAL DAMAGE</th>\n",
       "      <th>EARTHQUAKE</th>\n",
       "      <th>ESCAPE OF WATER</th>\n",
       "      <th>FIRE</th>\n",
       "      <th>FLOOD</th>\n",
       "      <th>SUBSIDENCE</th>\n",
       "      <th>THEFT</th>\n",
       "      <th>WINDSTORM</th>\n",
       "    </tr>\n",
       "    <tr>\n",
       "      <th>YEAR</th>\n",
       "      <th></th>\n",
       "      <th></th>\n",
       "      <th></th>\n",
       "      <th></th>\n",
       "      <th></th>\n",
       "      <th></th>\n",
       "      <th></th>\n",
       "      <th></th>\n",
       "    </tr>\n",
       "  </thead>\n",
       "  <tbody>\n",
       "    <tr>\n",
       "      <th>1999.0</th>\n",
       "      <td>404.566161</td>\n",
       "      <td>NaN</td>\n",
       "      <td>760.907003</td>\n",
       "      <td>1353.735536</td>\n",
       "      <td>2088.184138</td>\n",
       "      <td>8000.102683</td>\n",
       "      <td>678.204967</td>\n",
       "      <td>565.783968</td>\n",
       "    </tr>\n",
       "    <tr>\n",
       "      <th>2000.0</th>\n",
       "      <td>423.386404</td>\n",
       "      <td>2598.150000</td>\n",
       "      <td>729.334336</td>\n",
       "      <td>1900.907067</td>\n",
       "      <td>7082.943482</td>\n",
       "      <td>5554.991500</td>\n",
       "      <td>798.231008</td>\n",
       "      <td>761.756547</td>\n",
       "    </tr>\n",
       "    <tr>\n",
       "      <th>2001.0</th>\n",
       "      <td>424.354394</td>\n",
       "      <td>99.880000</td>\n",
       "      <td>1009.589391</td>\n",
       "      <td>3121.188449</td>\n",
       "      <td>6947.826667</td>\n",
       "      <td>10179.639677</td>\n",
       "      <td>858.521699</td>\n",
       "      <td>557.610832</td>\n",
       "    </tr>\n",
       "    <tr>\n",
       "      <th>2002.0</th>\n",
       "      <td>426.508692</td>\n",
       "      <td>1345.550000</td>\n",
       "      <td>948.743508</td>\n",
       "      <td>1598.469831</td>\n",
       "      <td>3624.894091</td>\n",
       "      <td>4457.526389</td>\n",
       "      <td>886.950764</td>\n",
       "      <td>571.398385</td>\n",
       "    </tr>\n",
       "    <tr>\n",
       "      <th>2003.0</th>\n",
       "      <td>436.002464</td>\n",
       "      <td>NaN</td>\n",
       "      <td>960.521504</td>\n",
       "      <td>2591.907065</td>\n",
       "      <td>1816.172727</td>\n",
       "      <td>5854.823429</td>\n",
       "      <td>809.945472</td>\n",
       "      <td>542.298650</td>\n",
       "    </tr>\n",
       "    <tr>\n",
       "      <th>2004.0</th>\n",
       "      <td>459.439503</td>\n",
       "      <td>NaN</td>\n",
       "      <td>1142.040529</td>\n",
       "      <td>2354.783537</td>\n",
       "      <td>1189.663953</td>\n",
       "      <td>3825.015185</td>\n",
       "      <td>933.841346</td>\n",
       "      <td>552.452375</td>\n",
       "    </tr>\n",
       "    <tr>\n",
       "      <th>2005.0</th>\n",
       "      <td>491.899067</td>\n",
       "      <td>NaN</td>\n",
       "      <td>545.001266</td>\n",
       "      <td>4985.420591</td>\n",
       "      <td>1340.569981</td>\n",
       "      <td>4979.457556</td>\n",
       "      <td>884.905879</td>\n",
       "      <td>678.596249</td>\n",
       "    </tr>\n",
       "    <tr>\n",
       "      <th>2006.0</th>\n",
       "      <td>525.897488</td>\n",
       "      <td>NaN</td>\n",
       "      <td>759.561528</td>\n",
       "      <td>4112.249971</td>\n",
       "      <td>1537.822033</td>\n",
       "      <td>6656.198037</td>\n",
       "      <td>979.931802</td>\n",
       "      <td>765.867285</td>\n",
       "    </tr>\n",
       "    <tr>\n",
       "      <th>2007.0</th>\n",
       "      <td>545.329822</td>\n",
       "      <td>5848.250611</td>\n",
       "      <td>478.052706</td>\n",
       "      <td>5495.726636</td>\n",
       "      <td>2194.451457</td>\n",
       "      <td>4594.211101</td>\n",
       "      <td>1190.247467</td>\n",
       "      <td>1543.921175</td>\n",
       "    </tr>\n",
       "  </tbody>\n",
       "</table>\n",
       "</div>"
      ],
      "text/plain": [
       "CAUSE   ACCIDENTAL DAMAGE  EARTHQUAKE       ESCAPE OF WATER         FIRE  \\\n",
       "YEAR                                                                       \n",
       "1999.0         404.566161              NaN       760.907003  1353.735536   \n",
       "2000.0         423.386404      2598.150000       729.334336  1900.907067   \n",
       "2001.0         424.354394        99.880000      1009.589391  3121.188449   \n",
       "2002.0         426.508692      1345.550000       948.743508  1598.469831   \n",
       "2003.0         436.002464              NaN       960.521504  2591.907065   \n",
       "2004.0         459.439503              NaN      1142.040529  2354.783537   \n",
       "2005.0         491.899067              NaN       545.001266  4985.420591   \n",
       "2006.0         525.897488              NaN       759.561528  4112.249971   \n",
       "2007.0         545.329822      5848.250611       478.052706  5495.726636   \n",
       "\n",
       "CAUSE   FLOOD            SUBSIDENCE             THEFT    WINDSTORM  \n",
       "YEAR                                                                \n",
       "1999.0      2088.184138      8000.102683   678.204967   565.783968  \n",
       "2000.0      7082.943482      5554.991500   798.231008   761.756547  \n",
       "2001.0      6947.826667     10179.639677   858.521699   557.610832  \n",
       "2002.0      3624.894091      4457.526389   886.950764   571.398385  \n",
       "2003.0      1816.172727      5854.823429   809.945472   542.298650  \n",
       "2004.0      1189.663953      3825.015185   933.841346   552.452375  \n",
       "2005.0      1340.569981      4979.457556   884.905879   678.596249  \n",
       "2006.0      1537.822033      6656.198037   979.931802   765.867285  \n",
       "2007.0      2194.451457      4594.211101  1190.247467  1543.921175  "
      ]
     },
     "execution_count": 10,
     "metadata": {},
     "output_type": "execute_result"
    }
   ],
   "source": [
    "r=pd.pivot_table(data,index=\"YEAR\",columns=\"CAUSE\",values=\"GROSS INCURRED AMOUNT\",aggfunc=np.mean)\n",
    "r"
   ]
  },
  {
   "cell_type": "code",
   "execution_count": 11,
   "id": "1c75f80b",
   "metadata": {},
   "outputs": [
    {
     "data": {
      "image/png": "[encoded data removed]",
      "text/plain": [
       "<Figure size 720x576 with 1 Axes>"
      ]
     },
     "metadata": {
      "needs_background": "light"
     },
     "output_type": "display_data"
    }
   ],
   "source": [
    "plt.rcParams['figure.figsize'] = [10,8]\n",
    "r.plot(kind=\"line\")\n",
    "plt.title(\"Severity of claims\")\n",
    "plt.ylabel(\"Avg claim amount\")\n",
    "plt.show()"
   ]
  },
  {
   "cell_type": "code",
   "execution_count": 12,
   "id": "3b1b5a49",
   "metadata": {},
   "outputs": [
    {
     "name": "stdout",
     "output_type": "stream",
     "text": [
      "WINDSTORM\n",
      "0.2074424471775465\n",
      "FIRE\n",
      "0.04301482182276884\n",
      "ESCAPE OF WATER\n",
      "0.0833385892988542\n",
      "SUBSIDENCE     \n",
      "0.017197519184274153\n",
      "FLOOD          \n",
      "0.10879848628192999\n",
      "ACCIDENTAL DAMAGE\n",
      "0.3782823504677809\n",
      "THEFT\n",
      "0.15902449279932723\n",
      "EARTHQUAKE     \n",
      "0.002901292967518133\n"
     ]
    }
   ],
   "source": [
    "for i in data[\"CAUSE\"].unique():\n",
    "    print(i)\n",
    "    print(data[\"CAUSE\"].isin([i]).mean())"
   ]
  },
  {
   "cell_type": "code",
   "execution_count": 13,
   "id": "ae9eb21d",
   "metadata": {},
   "outputs": [
    {
     "data": {
      "text/plain": [
       "ACCIDENTAL DAMAGE    17993\n",
       "WINDSTORM             9867\n",
       "THEFT                 7564\n",
       "FLOOD                 5175\n",
       "ESCAPE OF WATER       3964\n",
       "FIRE                  2046\n",
       "SUBSIDENCE             818\n",
       "EARTHQUAKE             138\n",
       "Name: CAUSE, dtype: int64"
      ]
     },
     "execution_count": 13,
     "metadata": {},
     "output_type": "execute_result"
    }
   ],
   "source": [
    "data[\"CAUSE\"].value_counts()"
   ]
  },
  {
   "cell_type": "markdown",
   "id": "f971d166",
   "metadata": {},
   "source": [
    "## What is the average individual claim size by peril across the 9-year time period?"
   ]
  },
  {
   "cell_type": "code",
   "execution_count": 14,
   "id": "d1bf8d00",
   "metadata": {},
   "outputs": [
    {
     "data": {
      "text/html": [
       "<div>\n",
       "<style scoped>\n",
       "    .dataframe tbody tr th:only-of-type {\n",
       "        vertical-align: middle;\n",
       "    }\n",
       "\n",
       "    .dataframe tbody tr th {\n",
       "        vertical-align: top;\n",
       "    }\n",
       "\n",
       "    .dataframe thead th {\n",
       "        text-align: right;\n",
       "    }\n",
       "</style>\n",
       "<table border=\"1\" class=\"dataframe\">\n",
       "  <thead>\n",
       "    <tr style=\"text-align: right;\">\n",
       "      <th></th>\n",
       "      <th>GROSS INCURRED AMOUNT</th>\n",
       "    </tr>\n",
       "    <tr>\n",
       "      <th>CAUSE</th>\n",
       "      <th></th>\n",
       "    </tr>\n",
       "  </thead>\n",
       "  <tbody>\n",
       "    <tr>\n",
       "      <th>SUBSIDENCE</th>\n",
       "      <td>5839.566308</td>\n",
       "    </tr>\n",
       "    <tr>\n",
       "      <th>EARTHQUAKE</th>\n",
       "      <td>5619.902971</td>\n",
       "    </tr>\n",
       "    <tr>\n",
       "      <th>FIRE</th>\n",
       "      <td>3446.486818</td>\n",
       "    </tr>\n",
       "    <tr>\n",
       "      <th>FLOOD</th>\n",
       "      <td>1855.767451</td>\n",
       "    </tr>\n",
       "    <tr>\n",
       "      <th>WINDSTORM</th>\n",
       "      <td>954.365621</td>\n",
       "    </tr>\n",
       "    <tr>\n",
       "      <th>THEFT</th>\n",
       "      <td>949.712451</td>\n",
       "    </tr>\n",
       "    <tr>\n",
       "      <th>ESCAPE OF WATER</th>\n",
       "      <td>859.540361</td>\n",
       "    </tr>\n",
       "    <tr>\n",
       "      <th>ACCIDENTAL DAMAGE</th>\n",
       "      <td>488.773741</td>\n",
       "    </tr>\n",
       "  </tbody>\n",
       "</table>\n",
       "</div>"
      ],
      "text/plain": [
       "                   GROSS INCURRED AMOUNT\n",
       "CAUSE                                   \n",
       "SUBSIDENCE                   5839.566308\n",
       "EARTHQUAKE                   5619.902971\n",
       "FIRE                         3446.486818\n",
       "FLOOD                        1855.767451\n",
       "WINDSTORM                     954.365621\n",
       "THEFT                         949.712451\n",
       "ESCAPE OF WATER               859.540361\n",
       "ACCIDENTAL DAMAGE             488.773741"
      ]
     },
     "execution_count": 14,
     "metadata": {},
     "output_type": "execute_result"
    }
   ],
   "source": [
    "t=pd.pivot_table(data,index='CAUSE',values=\"GROSS INCURRED AMOUNT\",aggfunc=np.mean)\n",
    "t.sort_values(by=\"GROSS INCURRED AMOUNT\",ascending=False)"
   ]
  },
  {
   "cell_type": "code",
   "execution_count": 15,
   "id": "56af3e0a",
   "metadata": {},
   "outputs": [
    {
     "data": {
      "text/plain": [
       "<Figure size 936x936 with 0 Axes>"
      ]
     },
     "metadata": {},
     "output_type": "display_data"
    },
    {
     "data": {
      "image/png": "[encoded data removed]",
      "text/plain": [
       "<Figure size 720x576 with 1 Axes>"
      ]
     },
     "metadata": {
      "needs_background": "light"
     },
     "output_type": "display_data"
    }
   ],
   "source": [
    "plt.figure(figsize=(13,13))\n",
    "t.plot(kind=\"bar\",color=\"y\")\n",
    "plt.title(\"Average Annual Frequency Distribution of claim\")\n",
    "plt.xlabel(\"CAUSE\")\n",
    "plt.ylabel(\"Avg claims\")\n",
    "plt.savefig(\"Pivot.jpg\")"
   ]
  },
  {
   "cell_type": "code",
   "execution_count": 16,
   "id": "c0778682",
   "metadata": {},
   "outputs": [
    {
     "data": {
      "text/html": [
       "<div>\n",
       "<style scoped>\n",
       "    .dataframe tbody tr th:only-of-type {\n",
       "        vertical-align: middle;\n",
       "    }\n",
       "\n",
       "    .dataframe tbody tr th {\n",
       "        vertical-align: top;\n",
       "    }\n",
       "\n",
       "    .dataframe thead th {\n",
       "        text-align: right;\n",
       "    }\n",
       "</style>\n",
       "<table border=\"1\" class=\"dataframe\">\n",
       "  <thead>\n",
       "    <tr style=\"text-align: right;\">\n",
       "      <th></th>\n",
       "      <th>DAY</th>\n",
       "      <th>MONTH</th>\n",
       "      <th>MONTH_ID</th>\n",
       "      <th>YEAR</th>\n",
       "      <th>CAUSE</th>\n",
       "      <th>GROSS INCURRED AMOUNT</th>\n",
       "    </tr>\n",
       "  </thead>\n",
       "  <tbody>\n",
       "    <tr>\n",
       "      <th>20485</th>\n",
       "      <td>7.0</td>\n",
       "      <td>January</td>\n",
       "      <td>1.0</td>\n",
       "      <td>2005.0</td>\n",
       "      <td>WINDSTORM</td>\n",
       "      <td>430.00</td>\n",
       "    </tr>\n",
       "    <tr>\n",
       "      <th>20486</th>\n",
       "      <td>7.0</td>\n",
       "      <td>January</td>\n",
       "      <td>1.0</td>\n",
       "      <td>2005.0</td>\n",
       "      <td>WINDSTORM</td>\n",
       "      <td>425.00</td>\n",
       "    </tr>\n",
       "    <tr>\n",
       "      <th>20487</th>\n",
       "      <td>7.0</td>\n",
       "      <td>January</td>\n",
       "      <td>1.0</td>\n",
       "      <td>2005.0</td>\n",
       "      <td>WINDSTORM</td>\n",
       "      <td>76.37</td>\n",
       "    </tr>\n",
       "    <tr>\n",
       "      <th>20488</th>\n",
       "      <td>7.0</td>\n",
       "      <td>January</td>\n",
       "      <td>1.0</td>\n",
       "      <td>2005.0</td>\n",
       "      <td>WINDSTORM</td>\n",
       "      <td>126.25</td>\n",
       "    </tr>\n",
       "    <tr>\n",
       "      <th>20489</th>\n",
       "      <td>7.0</td>\n",
       "      <td>January</td>\n",
       "      <td>1.0</td>\n",
       "      <td>2005.0</td>\n",
       "      <td>WINDSTORM</td>\n",
       "      <td>0.00</td>\n",
       "    </tr>\n",
       "    <tr>\n",
       "      <th>...</th>\n",
       "      <td>...</td>\n",
       "      <td>...</td>\n",
       "      <td>...</td>\n",
       "      <td>...</td>\n",
       "      <td>...</td>\n",
       "      <td>...</td>\n",
       "    </tr>\n",
       "    <tr>\n",
       "      <th>20958</th>\n",
       "      <td>9.0</td>\n",
       "      <td>January</td>\n",
       "      <td>1.0</td>\n",
       "      <td>2005.0</td>\n",
       "      <td>WINDSTORM</td>\n",
       "      <td>270.00</td>\n",
       "    </tr>\n",
       "    <tr>\n",
       "      <th>20959</th>\n",
       "      <td>9.0</td>\n",
       "      <td>January</td>\n",
       "      <td>1.0</td>\n",
       "      <td>2005.0</td>\n",
       "      <td>WINDSTORM</td>\n",
       "      <td>525.75</td>\n",
       "    </tr>\n",
       "    <tr>\n",
       "      <th>20960</th>\n",
       "      <td>9.0</td>\n",
       "      <td>January</td>\n",
       "      <td>1.0</td>\n",
       "      <td>2005.0</td>\n",
       "      <td>WINDSTORM</td>\n",
       "      <td>300.00</td>\n",
       "    </tr>\n",
       "    <tr>\n",
       "      <th>20961</th>\n",
       "      <td>9.0</td>\n",
       "      <td>January</td>\n",
       "      <td>1.0</td>\n",
       "      <td>2005.0</td>\n",
       "      <td>WINDSTORM</td>\n",
       "      <td>225.00</td>\n",
       "    </tr>\n",
       "    <tr>\n",
       "      <th>20964</th>\n",
       "      <td>9.0</td>\n",
       "      <td>January</td>\n",
       "      <td>1.0</td>\n",
       "      <td>2005.0</td>\n",
       "      <td>WINDSTORM</td>\n",
       "      <td>1586.93</td>\n",
       "    </tr>\n",
       "  </tbody>\n",
       "</table>\n",
       "<p>447 rows × 6 columns</p>\n",
       "</div>"
      ],
      "text/plain": [
       "       DAY    MONTH  MONTH_ID    YEAR      CAUSE  GROSS INCURRED AMOUNT\n",
       "20485  7.0  January       1.0  2005.0  WINDSTORM                 430.00\n",
       "20486  7.0  January       1.0  2005.0  WINDSTORM                 425.00\n",
       "20487  7.0  January       1.0  2005.0  WINDSTORM                  76.37\n",
       "20488  7.0  January       1.0  2005.0  WINDSTORM                 126.25\n",
       "20489  7.0  January       1.0  2005.0  WINDSTORM                   0.00\n",
       "...    ...      ...       ...     ...        ...                    ...\n",
       "20958  9.0  January       1.0  2005.0  WINDSTORM                 270.00\n",
       "20959  9.0  January       1.0  2005.0  WINDSTORM                 525.75\n",
       "20960  9.0  January       1.0  2005.0  WINDSTORM                 300.00\n",
       "20961  9.0  January       1.0  2005.0  WINDSTORM                 225.00\n",
       "20964  9.0  January       1.0  2005.0  WINDSTORM                1586.93\n",
       "\n",
       "[447 rows x 6 columns]"
      ]
     },
     "execution_count": 16,
     "metadata": {},
     "output_type": "execute_result"
    }
   ],
   "source": [
    "data[(data[\"CAUSE\"]==\"WINDSTORM\")&(data[\"MONTH\"]==\"January\")&(data[\"YEAR\"]==2005)&(data[\"DAY\"]>=7)&(data[\"DAY\"]<=9)]"
   ]
  },
  {
   "cell_type": "markdown",
   "id": "eda4ed1b",
   "metadata": {},
   "source": [
    "### Q3. What did Windstorm Erwin cost the company? What perils drove the loss?\n",
    "What was the total loss, for windstorm and other related weather perils, for Windstorm Erwin (date Jan 7th to Jan 9th, 2005)\n"
   ]
  },
  {
   "cell_type": "code",
   "execution_count": 17,
   "id": "8da8421d",
   "metadata": {},
   "outputs": [
    {
     "data": {
      "text/html": [
       "<div>\n",
       "<style scoped>\n",
       "    .dataframe tbody tr th:only-of-type {\n",
       "        vertical-align: middle;\n",
       "    }\n",
       "\n",
       "    .dataframe tbody tr th {\n",
       "        vertical-align: top;\n",
       "    }\n",
       "\n",
       "    .dataframe thead th {\n",
       "        text-align: right;\n",
       "    }\n",
       "</style>\n",
       "<table border=\"1\" class=\"dataframe\">\n",
       "  <thead>\n",
       "    <tr style=\"text-align: right;\">\n",
       "      <th></th>\n",
       "      <th>total loss</th>\n",
       "    </tr>\n",
       "    <tr>\n",
       "      <th>cause</th>\n",
       "      <th></th>\n",
       "    </tr>\n",
       "  </thead>\n",
       "  <tbody>\n",
       "    <tr>\n",
       "      <th>FLOOD</th>\n",
       "      <td>9603596.56</td>\n",
       "    </tr>\n",
       "    <tr>\n",
       "      <th>EARTHQUAKE</th>\n",
       "      <td>775546.61</td>\n",
       "    </tr>\n",
       "    <tr>\n",
       "      <th>WINDSTORM</th>\n",
       "      <td>292229.86</td>\n",
       "    </tr>\n",
       "  </tbody>\n",
       "</table>\n",
       "</div>"
      ],
      "text/plain": [
       "                 total loss\n",
       "cause                      \n",
       "FLOOD            9603596.56\n",
       "EARTHQUAKE        775546.61\n",
       "WINDSTORM         292229.86"
      ]
     },
     "execution_count": 17,
     "metadata": {},
     "output_type": "execute_result"
    }
   ],
   "source": [
    "cause=data[\"CAUSE\"].unique()\n",
    "p=[]\n",
    "for i in cause:\n",
    "    if i!=\"WINDSTORM\":\n",
    "        p.append(data[(data[\"CAUSE\"]==i)][\"GROSS INCURRED AMOUNT\"].sum())\n",
    "    else:\n",
    "         p.append(data[(data[\"CAUSE\"]==i)&(data[\"MONTH\"]==\"January\")&(data[\"YEAR\"]==2005)&(data[\"DAY\"]>=7)&(data[\"DAY\"]<=9)][\"GROSS INCURRED AMOUNT\"].sum())\n",
    "g={'cause':cause,'total loss':p}\n",
    "data1=pd.DataFrame(g)\n",
    "data1\n",
    "data2=data1.iloc[[0,4,7],:]\n",
    "data3=data2.set_index(\"cause\")\n",
    "data3.sort_values(by=\"total loss\",ascending=False)\n"
   ]
  },
  {
   "cell_type": "code",
   "execution_count": 18,
   "id": "9a2057ef",
   "metadata": {},
   "outputs": [
    {
     "data": {
      "image/png": "[encoded data removed]",
      "text/plain": [
       "<Figure size 720x576 with 1 Axes>"
      ]
     },
     "metadata": {
      "needs_background": "light"
     },
     "output_type": "display_data"
    }
   ],
   "source": [
    "data3.plot(kind=\"bar\",color=\"y\")\n",
    "plt.title(\"Total loss per claim\")\n",
    "plt.show()"
   ]
  },
  {
   "cell_type": "code",
   "execution_count": 19,
   "id": "cccf0fb2",
   "metadata": {},
   "outputs": [
    {
     "data": {
      "text/plain": [
       "array(['WINDSTORM', 'FIRE', 'ESCAPE OF WATER', 'SUBSIDENCE     ',\n",
       "       'FLOOD          ', 'ACCIDENTAL DAMAGE', 'THEFT', 'EARTHQUAKE     '],\n",
       "      dtype=object)"
      ]
     },
     "execution_count": 19,
     "metadata": {},
     "output_type": "execute_result"
    }
   ],
   "source": [
    "data[\"CAUSE\"].unique()"
   ]
  },
  {
   "cell_type": "code",
   "execution_count": 20,
   "id": "f5009f06",
   "metadata": {},
   "outputs": [],
   "source": [
    "x=data[[\"DAY\",\"MONTH_ID\",\"YEAR\",\"GROSS INCURRED AMOUNT\"]]"
   ]
  },
  {
   "cell_type": "code",
   "execution_count": 21,
   "id": "11c2177c",
   "metadata": {},
   "outputs": [
    {
     "data": {
      "text/html": [
       "<div>\n",
       "<style scoped>\n",
       "    .dataframe tbody tr th:only-of-type {\n",
       "        vertical-align: middle;\n",
       "    }\n",
       "\n",
       "    .dataframe tbody tr th {\n",
       "        vertical-align: top;\n",
       "    }\n",
       "\n",
       "    .dataframe thead th {\n",
       "        text-align: right;\n",
       "    }\n",
       "</style>\n",
       "<table border=\"1\" class=\"dataframe\">\n",
       "  <thead>\n",
       "    <tr style=\"text-align: right;\">\n",
       "      <th></th>\n",
       "      <th>DAY</th>\n",
       "      <th>MONTH_ID</th>\n",
       "      <th>YEAR</th>\n",
       "      <th>GROSS INCURRED AMOUNT</th>\n",
       "    </tr>\n",
       "  </thead>\n",
       "  <tbody>\n",
       "    <tr>\n",
       "      <th>0</th>\n",
       "      <td>1.0</td>\n",
       "      <td>1.0</td>\n",
       "      <td>1999.0</td>\n",
       "      <td>477.88</td>\n",
       "    </tr>\n",
       "    <tr>\n",
       "      <th>1</th>\n",
       "      <td>1.0</td>\n",
       "      <td>1.0</td>\n",
       "      <td>1999.0</td>\n",
       "      <td>700.00</td>\n",
       "    </tr>\n",
       "    <tr>\n",
       "      <th>2</th>\n",
       "      <td>1.0</td>\n",
       "      <td>1.0</td>\n",
       "      <td>1999.0</td>\n",
       "      <td>99.87</td>\n",
       "    </tr>\n",
       "    <tr>\n",
       "      <th>3</th>\n",
       "      <td>1.0</td>\n",
       "      <td>1.0</td>\n",
       "      <td>1999.0</td>\n",
       "      <td>139.80</td>\n",
       "    </tr>\n",
       "    <tr>\n",
       "      <th>4</th>\n",
       "      <td>1.0</td>\n",
       "      <td>1.0</td>\n",
       "      <td>1999.0</td>\n",
       "      <td>548.66</td>\n",
       "    </tr>\n",
       "    <tr>\n",
       "      <th>...</th>\n",
       "      <td>...</td>\n",
       "      <td>...</td>\n",
       "      <td>...</td>\n",
       "      <td>...</td>\n",
       "    </tr>\n",
       "    <tr>\n",
       "      <th>47560</th>\n",
       "      <td>28.0</td>\n",
       "      <td>12.0</td>\n",
       "      <td>2007.0</td>\n",
       "      <td>1051.00</td>\n",
       "    </tr>\n",
       "    <tr>\n",
       "      <th>47561</th>\n",
       "      <td>29.0</td>\n",
       "      <td>12.0</td>\n",
       "      <td>2007.0</td>\n",
       "      <td>461.00</td>\n",
       "    </tr>\n",
       "    <tr>\n",
       "      <th>47562</th>\n",
       "      <td>29.0</td>\n",
       "      <td>12.0</td>\n",
       "      <td>2007.0</td>\n",
       "      <td>1051.00</td>\n",
       "    </tr>\n",
       "    <tr>\n",
       "      <th>47563</th>\n",
       "      <td>29.0</td>\n",
       "      <td>12.0</td>\n",
       "      <td>2007.0</td>\n",
       "      <td>1051.00</td>\n",
       "    </tr>\n",
       "    <tr>\n",
       "      <th>47564</th>\n",
       "      <td>29.0</td>\n",
       "      <td>12.0</td>\n",
       "      <td>2007.0</td>\n",
       "      <td>461.00</td>\n",
       "    </tr>\n",
       "  </tbody>\n",
       "</table>\n",
       "<p>47565 rows × 4 columns</p>\n",
       "</div>"
      ],
      "text/plain": [
       "        DAY  MONTH_ID    YEAR  GROSS INCURRED AMOUNT\n",
       "0       1.0       1.0  1999.0                 477.88\n",
       "1       1.0       1.0  1999.0                 700.00\n",
       "2       1.0       1.0  1999.0                  99.87\n",
       "3       1.0       1.0  1999.0                 139.80\n",
       "4       1.0       1.0  1999.0                 548.66\n",
       "...     ...       ...     ...                    ...\n",
       "47560  28.0      12.0  2007.0                1051.00\n",
       "47561  29.0      12.0  2007.0                 461.00\n",
       "47562  29.0      12.0  2007.0                1051.00\n",
       "47563  29.0      12.0  2007.0                1051.00\n",
       "47564  29.0      12.0  2007.0                 461.00\n",
       "\n",
       "[47565 rows x 4 columns]"
      ]
     },
     "execution_count": 21,
     "metadata": {},
     "output_type": "execute_result"
    }
   ],
   "source": [
    "x"
   ]
  },
  {
   "cell_type": "code",
   "execution_count": 22,
   "id": "4b106d25",
   "metadata": {},
   "outputs": [],
   "source": [
    "y=data[[\"CAUSE\"]]"
   ]
  },
  {
   "cell_type": "code",
   "execution_count": 23,
   "id": "75623b95",
   "metadata": {
    "scrolled": false
   },
   "outputs": [
    {
     "data": {
      "text/html": [
       "<div>\n",
       "<style scoped>\n",
       "    .dataframe tbody tr th:only-of-type {\n",
       "        vertical-align: middle;\n",
       "    }\n",
       "\n",
       "    .dataframe tbody tr th {\n",
       "        vertical-align: top;\n",
       "    }\n",
       "\n",
       "    .dataframe thead th {\n",
       "        text-align: right;\n",
       "    }\n",
       "</style>\n",
       "<table border=\"1\" class=\"dataframe\">\n",
       "  <thead>\n",
       "    <tr style=\"text-align: right;\">\n",
       "      <th></th>\n",
       "      <th>CAUSE</th>\n",
       "    </tr>\n",
       "  </thead>\n",
       "  <tbody>\n",
       "    <tr>\n",
       "      <th>0</th>\n",
       "      <td>WINDSTORM</td>\n",
       "    </tr>\n",
       "    <tr>\n",
       "      <th>1</th>\n",
       "      <td>FIRE</td>\n",
       "    </tr>\n",
       "    <tr>\n",
       "      <th>2</th>\n",
       "      <td>WINDSTORM</td>\n",
       "    </tr>\n",
       "    <tr>\n",
       "      <th>3</th>\n",
       "      <td>WINDSTORM</td>\n",
       "    </tr>\n",
       "    <tr>\n",
       "      <th>4</th>\n",
       "      <td>WINDSTORM</td>\n",
       "    </tr>\n",
       "    <tr>\n",
       "      <th>...</th>\n",
       "      <td>...</td>\n",
       "    </tr>\n",
       "    <tr>\n",
       "      <th>47560</th>\n",
       "      <td>FLOOD</td>\n",
       "    </tr>\n",
       "    <tr>\n",
       "      <th>47561</th>\n",
       "      <td>ACCIDENTAL DAMAGE</td>\n",
       "    </tr>\n",
       "    <tr>\n",
       "      <th>47562</th>\n",
       "      <td>FLOOD</td>\n",
       "    </tr>\n",
       "    <tr>\n",
       "      <th>47563</th>\n",
       "      <td>FLOOD</td>\n",
       "    </tr>\n",
       "    <tr>\n",
       "      <th>47564</th>\n",
       "      <td>ACCIDENTAL DAMAGE</td>\n",
       "    </tr>\n",
       "  </tbody>\n",
       "</table>\n",
       "<p>47565 rows × 1 columns</p>\n",
       "</div>"
      ],
      "text/plain": [
       "                   CAUSE\n",
       "0              WINDSTORM\n",
       "1                   FIRE\n",
       "2              WINDSTORM\n",
       "3              WINDSTORM\n",
       "4              WINDSTORM\n",
       "...                  ...\n",
       "47560    FLOOD          \n",
       "47561  ACCIDENTAL DAMAGE\n",
       "47562    FLOOD          \n",
       "47563    FLOOD          \n",
       "47564  ACCIDENTAL DAMAGE\n",
       "\n",
       "[47565 rows x 1 columns]"
      ]
     },
     "execution_count": 23,
     "metadata": {},
     "output_type": "execute_result"
    }
   ],
   "source": [
    "y"
   ]
  },
  {
   "cell_type": "code",
   "execution_count": 24,
   "id": "e8d02c4c",
   "metadata": {},
   "outputs": [],
   "source": [
    "from sklearn.model_selection import train_test_split\n",
    "xtrain,xtest,ytrain,ytest=train_test_split(x,y,test_size=0.2,random_state=319)"
   ]
  },
  {
   "cell_type": "code",
   "execution_count": 25,
   "id": "81f97393",
   "metadata": {},
   "outputs": [],
   "source": [
    "from sklearn.tree import DecisionTreeClassifier\n",
    "from sklearn.ensemble import AdaBoostClassifier,GradientBoostingClassifier,RandomForestClassifier\n",
    "from xgboost import XGBClassifier\n",
    "gb=GradientBoostingClassifier()\n",
    "dt=DecisionTreeClassifier()\n",
    "rf=RandomForestClassifier()\n",
    "xg=XGBClassifier()"
   ]
  },
  {
   "cell_type": "code",
   "execution_count": 26,
   "id": "08faeacd",
   "metadata": {},
   "outputs": [],
   "source": [
    "from sklearn.metrics import classification_report\n",
    "def my_model(model):\n",
    "    model.fit(xtrain,ytrain)\n",
    "    y_pred_train=model.predict(xtrain)\n",
    "    y_pred_test=model.predict(xtest)\n",
    "    print('Train Data')\n",
    "    print(classification_report(ytrain,y_pred_train))\n",
    "    print('-'*30)\n",
    "    print('Test Data')\n",
    "    print(classification_report(ytest,y_pred_test))\n",
    "\n",
    "    return model"
   ]
  },
  {
   "cell_type": "code",
   "execution_count": 27,
   "id": "e702b36d",
   "metadata": {},
   "outputs": [
    {
     "name": "stdout",
     "output_type": "stream",
     "text": [
      "Train Data\n",
      "                   precision    recall  f1-score   support\n",
      "\n",
      "ACCIDENTAL DAMAGE       0.95      0.98      0.96     14422\n",
      "  EARTHQUAKE            0.98      0.99      0.99       107\n",
      "  ESCAPE OF WATER       0.96      0.93      0.94      3151\n",
      "             FIRE       0.97      0.91      0.94      1651\n",
      "  FLOOD                 0.97      0.95      0.96      4124\n",
      "  SUBSIDENCE            0.92      0.91      0.91       667\n",
      "            THEFT       0.97      0.96      0.96      6025\n",
      "        WINDSTORM       0.96      0.96      0.96      7905\n",
      "\n",
      "         accuracy                           0.96     38052\n",
      "        macro avg       0.96      0.95      0.95     38052\n",
      "     weighted avg       0.96      0.96      0.96     38052\n",
      "\n",
      "------------------------------\n",
      "Test Data\n",
      "                   precision    recall  f1-score   support\n",
      "\n",
      "ACCIDENTAL DAMAGE       0.49      0.63      0.55      3571\n",
      "  EARTHQUAKE            0.81      0.68      0.74        31\n",
      "  ESCAPE OF WATER       0.23      0.16      0.19       813\n",
      "             FIRE       0.15      0.10      0.12       395\n",
      "  FLOOD                 0.33      0.29      0.31      1051\n",
      "  SUBSIDENCE            0.31      0.23      0.26       151\n",
      "            THEFT       0.24      0.18      0.21      1539\n",
      "        WINDSTORM       0.58      0.53      0.56      1962\n",
      "\n",
      "         accuracy                           0.43      9513\n",
      "        macro avg       0.39      0.35      0.37      9513\n",
      "     weighted avg       0.41      0.43      0.42      9513\n",
      "\n"
     ]
    },
    {
     "data": {
      "text/plain": [
       "RandomForestClassifier()"
      ]
     },
     "execution_count": 27,
     "metadata": {},
     "output_type": "execute_result"
    }
   ],
   "source": [
    "my_model(rf)"
   ]
  },
  {
   "cell_type": "code",
   "execution_count": 28,
   "id": "d8e10c66",
   "metadata": {},
   "outputs": [
    {
     "name": "stdout",
     "output_type": "stream",
     "text": [
      "Train Data\n",
      "                   precision    recall  f1-score   support\n",
      "\n",
      "ACCIDENTAL DAMAGE       0.93      0.99      0.96     14422\n",
      "  EARTHQUAKE            0.98      0.99      0.99       107\n",
      "  ESCAPE OF WATER       0.96      0.93      0.95      3151\n",
      "             FIRE       0.96      0.92      0.94      1651\n",
      "  FLOOD                 0.97      0.94      0.96      4124\n",
      "  SUBSIDENCE            0.95      0.88      0.91       667\n",
      "            THEFT       0.99      0.94      0.96      6025\n",
      "        WINDSTORM       0.98      0.95      0.96      7905\n",
      "\n",
      "         accuracy                           0.96     38052\n",
      "        macro avg       0.97      0.94      0.95     38052\n",
      "     weighted avg       0.96      0.96      0.96     38052\n",
      "\n",
      "------------------------------\n",
      "Test Data\n",
      "                   precision    recall  f1-score   support\n",
      "\n",
      "ACCIDENTAL DAMAGE       0.47      0.49      0.48      3571\n",
      "  EARTHQUAKE            0.62      0.68      0.65        31\n",
      "  ESCAPE OF WATER       0.19      0.18      0.18       813\n",
      "             FIRE       0.10      0.11      0.10       395\n",
      "  FLOOD                 0.31      0.29      0.30      1051\n",
      "  SUBSIDENCE            0.25      0.26      0.25       151\n",
      "            THEFT       0.23      0.22      0.22      1539\n",
      "        WINDSTORM       0.52      0.51      0.52      1962\n",
      "\n",
      "         accuracy                           0.38      9513\n",
      "        macro avg       0.34      0.34      0.34      9513\n",
      "     weighted avg       0.38      0.38      0.38      9513\n",
      "\n"
     ]
    },
    {
     "data": {
      "text/plain": [
       "DecisionTreeClassifier()"
      ]
     },
     "execution_count": 28,
     "metadata": {},
     "output_type": "execute_result"
    }
   ],
   "source": [
    "my_model(dt)"
   ]
  },
  {
   "cell_type": "code",
   "execution_count": 29,
   "id": "1b06fde7",
   "metadata": {},
   "outputs": [
    {
     "name": "stdout",
     "output_type": "stream",
     "text": [
      "Train Data\n",
      "                   precision    recall  f1-score   support\n",
      "\n",
      "ACCIDENTAL DAMAGE       0.48      0.88      0.62     14422\n",
      "  EARTHQUAKE            0.82      0.86      0.84       107\n",
      "  ESCAPE OF WATER       0.39      0.05      0.09      3151\n",
      "             FIRE       0.73      0.08      0.14      1651\n",
      "  FLOOD                 0.45      0.30      0.36      4124\n",
      "  SUBSIDENCE            0.78      0.34      0.48       667\n",
      "            THEFT       0.43      0.09      0.15      6025\n",
      "        WINDSTORM       0.63      0.52      0.57      7905\n",
      "\n",
      "         accuracy                           0.50     38052\n",
      "        macro avg       0.59      0.39      0.41     38052\n",
      "     weighted avg       0.51      0.50      0.44     38052\n",
      "\n",
      "------------------------------\n",
      "Test Data\n",
      "                   precision    recall  f1-score   support\n",
      "\n",
      "ACCIDENTAL DAMAGE       0.47      0.88      0.62      3571\n",
      "  EARTHQUAKE            0.70      0.74      0.72        31\n",
      "  ESCAPE OF WATER       0.29      0.04      0.07       813\n",
      "             FIRE       0.66      0.05      0.10       395\n",
      "  FLOOD                 0.42      0.28      0.34      1051\n",
      "  SUBSIDENCE            0.56      0.25      0.35       151\n",
      "            THEFT       0.34      0.08      0.13      1539\n",
      "        WINDSTORM       0.62      0.50      0.55      1962\n",
      "\n",
      "         accuracy                           0.49      9513\n",
      "        macro avg       0.51      0.35      0.36      9513\n",
      "     weighted avg       0.47      0.49      0.42      9513\n",
      "\n"
     ]
    },
    {
     "data": {
      "text/plain": [
       "GradientBoostingClassifier()"
      ]
     },
     "execution_count": 29,
     "metadata": {},
     "output_type": "execute_result"
    }
   ],
   "source": [
    "my_model(gb)"
   ]
  },
  {
   "cell_type": "code",
   "execution_count": 30,
   "id": "5cc655be",
   "metadata": {},
   "outputs": [],
   "source": [
    "def predict():\n",
    "     day=int(input('Enter the day: '))\n",
    "     month_id=float(input('Enter The Month: '))\n",
    "     year=int(input('Enter the Year: ' ))\n",
    "     amount=int(input('Enter the amount of money claimed: '))\n",
    "     newobs=[[day,month_id,year,amount]]\n",
    "     ypred=gb.predict(newobs)[0]\n",
    "     return ypred"
   ]
  },
  {
   "cell_type": "code",
   "execution_count": 32,
   "id": "e49cd527",
   "metadata": {},
   "outputs": [
    {
     "name": "stdout",
     "output_type": "stream",
     "text": [
      "Enter the day: 9\n",
      "Enter The Month: 1\n",
      "Enter the Year: 2005\n",
      "Enter the amount of money claimed: 256\n"
     ]
    },
    {
     "data": {
      "text/plain": [
       "'WINDSTORM'"
      ]
     },
     "execution_count": 32,
     "metadata": {},
     "output_type": "execute_result"
    }
   ],
   "source": [
    "predict()"
   ]
  },
  {
   "cell_type": "code",
   "execution_count": null,
   "id": "11aad050",
   "metadata": {},
   "outputs": [],
   "source": []
  }
 ],
 "metadata": {
  "kernelspec": {
   "display_name": "Python 3 (ipykernel)",
   "language": "python",
   "name": "python3"
  },
  "language_info": {
   "codemirror_mode": {
    "name": "ipython",
    "version": 3
   },
   "file_extension": ".py",
   "mimetype": "text/x-python",
   "name": "python",
   "nbconvert_exporter": "python",
   "pygments_lexer": "ipython3",
   "version": "3.9.12"
  }
 },
 "nbformat": 4,
 "nbformat_minor": 5
}
