{
 "cells": [
  {
   "cell_type": "code",
   "execution_count": 1,
   "id": "1c308b61",
   "metadata": {},
   "outputs": [],
   "source": [
    "import numpy as np\n",
    "import pandas as pd\n",
    "import matplotlib.pyplot as plt\n",
    "import seaborn as sns\n",
    "import warnings \n",
    "warnings.filterwarnings('ignore')"
   ]
  },
  {
   "cell_type": "code",
   "execution_count": null,
   "id": "3803611c",
   "metadata": {},
   "outputs": [],
   "source": [
    "data=pd.read_excel(\"Losses.xlsx\")"
   ]
  },
  {
   "cell_type": "code",
   "execution_count": null,
   "id": "c654b267",
   "metadata": {},
   "outputs": [],
   "source": [
    "data"
   ]
  },
  {
   "cell_type": "markdown",
   "id": "53af6e3f",
   "metadata": {},
   "source": [
    "### Q1. What are the total claims by year and what trends are there? What could be driving these trends?\n",
    "a.What are the total value of claims by year?\n",
    "\n",
    "b.What factors, internal and external to the insurer, could be driving any trends that you have identified?"
   ]
  },
  {
   "cell_type": "code",
   "execution_count": null,
   "id": "551508c3",
   "metadata": {},
   "outputs": [],
   "source": [
    "df=data.groupby([\"YEAR\"])[\"GROSS INCURRED AMOUNT\"].sum()\n",
    "df"
   ]
  },
  {
   "cell_type": "markdown",
   "id": "a6d41651",
   "metadata": {},
   "source": [
    "### graphical representation"
   ]
  },
  {
   "cell_type": "code",
   "execution_count": null,
   "id": "2b07bf98",
   "metadata": {},
   "outputs": [],
   "source": [
    "data.groupby([\"YEAR\"])[\"GROSS INCURRED AMOUNT\"].sum().plot(kind=\"bar\",color=\"y\")\n",
    "\n",
    "plt.ylabel(\"Claim Value\")\n",
    "plt.title(\"Claims distribution per year\")\n",
    "plt.show()"
   ]
  },
  {
   "cell_type": "markdown",
   "id": "a603115c",
   "metadata": {},
   "source": [
    "# PIE CHART"
   ]
  },
  {
   "cell_type": "code",
   "execution_count": null,
   "id": "b401baf8",
   "metadata": {},
   "outputs": [],
   "source": [
    "plt.figure(figsize=(9,9))\n",
    "plt.title(\"Annual Claims Distribution\")\n",
    "plt.pie(x=data.groupby([\"YEAR\"])[\"GROSS INCURRED AMOUNT\"].sum(),explode=[0,0,0,0, 0, 0, 0,0, 0.1],labels=[1999, 2000, 2001, 2002, 2003, 2004, 2005, 2006, 2007],autopct='%.1f%%')\n",
    "plt.show()"
   ]
  },
  {
   "cell_type": "code",
   "execution_count": null,
   "id": "d68eb708",
   "metadata": {},
   "outputs": [],
   "source": []
  },
  {
   "cell_type": "code",
   "execution_count": null,
   "id": "04f838be",
   "metadata": {},
   "outputs": [],
   "source": []
  },
  {
   "cell_type": "markdown",
   "id": "b0f7353f",
   "metadata": {},
   "source": [
    "## b.What factors, internal and external to the insurer, could be driving any trends that you have identified?"
   ]
  },
  {
   "cell_type": "code",
   "execution_count": null,
   "id": "9c8d00d7",
   "metadata": {},
   "outputs": [],
   "source": [
    "plt.figure(figsize=(9,9))\n",
    "sns.barplot(x=data[\"YEAR\"],y=data[\"GROSS INCURRED AMOUNT\"],hue=data[\"CAUSE\"])\n",
    "plt.title(\"Trends Representation\")\n",
    "plt.show()\n"
   ]
  },
  {
   "cell_type": "markdown",
   "id": "76759d56",
   "metadata": {},
   "source": [
    "# Q2. Which perils should the company worry about most and why?\n",
    "Which claim types (perils) have the greatest average annual frequency and severity?  \n",
    "\n",
    "\n",
    "What is the average individual claim size by peril across the 9-year time period?\n"
   ]
  },
  {
   "cell_type": "markdown",
   "id": "cbfbc1c2",
   "metadata": {},
   "source": [
    "# Which claim types (perils) have the greatest average annual frequency and severity?"
   ]
  },
  {
   "cell_type": "code",
   "execution_count": null,
   "id": "d78d7ac4",
   "metadata": {},
   "outputs": [],
   "source": [
    "tr=pd.pivot_table(data,index=\"CAUSE\",values=\"DAY\",aggfunc=np.mean)\n",
    "tr.sort_values(by=\"DAY\",ascending=False)"
   ]
  },
  {
   "cell_type": "code",
   "execution_count": null,
   "id": "3f811a01",
   "metadata": {},
   "outputs": [],
   "source": [
    "tr.plot(kind=\"bar\",color=\"m\")\n",
    "plt.title(\"Avg freq of claims\")\n",
    "plt.ylabel(\"No. of Occurence\")\n",
    "plt.show()"
   ]
  },
  {
   "cell_type": "code",
   "execution_count": null,
   "id": "389fc7f5",
   "metadata": {},
   "outputs": [],
   "source": [
    "r=pd.pivot_table(data,index=\"YEAR\",columns=\"CAUSE\",values=\"GROSS INCURRED AMOUNT\",aggfunc=np.mean)\n",
    "r"
   ]
  },
  {
   "cell_type": "code",
   "execution_count": null,
   "id": "1c75f80b",
   "metadata": {},
   "outputs": [],
   "source": [
    "plt.rcParams['figure.figsize'] = [10,8]\n",
    "r.plot(kind=\"line\")\n",
    "plt.title(\"Severity of claims\")\n",
    "plt.ylabel(\"Avg claim amount\")\n",
    "plt.show()"
   ]
  },
  {
   "cell_type": "code",
   "execution_count": null,
   "id": "3b1b5a49",
   "metadata": {},
   "outputs": [],
   "source": [
    "for i in data[\"CAUSE\"].unique():\n",
    "    print(i)\n",
    "    print(data[\"CAUSE\"].isin([i]).mean())"
   ]
  },
  {
   "cell_type": "code",
   "execution_count": null,
   "id": "ae9eb21d",
   "metadata": {},
   "outputs": [],
   "source": [
    "data[\"CAUSE\"].value_counts()"
   ]
  },
  {
   "cell_type": "markdown",
   "id": "f971d166",
   "metadata": {},
   "source": [
    "## What is the average individual claim size by peril across the 9-year time period?"
   ]
  },
  {
   "cell_type": "code",
   "execution_count": null,
   "id": "d1bf8d00",
   "metadata": {},
   "outputs": [],
   "source": [
    "t=pd.pivot_table(data,index='CAUSE',values=\"GROSS INCURRED AMOUNT\",aggfunc=np.mean)\n",
    "t.sort_values(by=\"GROSS INCURRED AMOUNT\",ascending=False)"
   ]
  },
  {
   "cell_type": "code",
   "execution_count": null,
   "id": "56af3e0a",
   "metadata": {},
   "outputs": [],
   "source": [
    "plt.figure(figsize=(13,13))\n",
    "t.plot(kind=\"bar\",color=\"y\")\n",
    "plt.title(\"Average Annual Frequency Distribution of claim\")\n",
    "plt.xlabel(\"CAUSE\")\n",
    "plt.ylabel(\"Avg claims\")\n",
    "plt.savefig(\"Pivot.jpg\")"
   ]
  },
  {
   "cell_type": "code",
   "execution_count": null,
   "id": "c0778682",
   "metadata": {},
   "outputs": [],
   "source": [
    "data[(data[\"CAUSE\"]==\"WINDSTORM\")&(data[\"MONTH\"]==\"January\")&(data[\"YEAR\"]==2005)&(data[\"DAY\"]>=7)&(data[\"DAY\"]<=9)]"
   ]
  },
  {
   "cell_type": "markdown",
   "id": "eda4ed1b",
   "metadata": {},
   "source": [
    "### Q3. What did Windstorm Erwin cost the company? What perils drove the loss?\n",
    "What was the total loss, for windstorm and other related weather perils, for Windstorm Erwin (date Jan 7th to Jan 9th, 2005)\n"
   ]
  },
  {
   "cell_type": "code",
   "execution_count": null,
   "id": "8da8421d",
   "metadata": {},
   "outputs": [],
   "source": [
    "cause=data[\"CAUSE\"].unique()\n",
    "p=[]\n",
    "for i in cause:\n",
    "    if i!=\"WINDSTORM\":\n",
    "        p.append(data[(data[\"CAUSE\"]==i)][\"GROSS INCURRED AMOUNT\"].sum())\n",
    "    else:\n",
    "         p.append(data[(data[\"CAUSE\"]==i)&(data[\"MONTH\"]==\"January\")&(data[\"YEAR\"]==2005)&(data[\"DAY\"]>=7)&(data[\"DAY\"]<=9)][\"GROSS INCURRED AMOUNT\"].sum())\n",
    "g={'cause':cause,'total loss':p}\n",
    "data1=pd.DataFrame(g)\n",
    "data1\n",
    "data2=data1.iloc[[0,4,7],:]\n",
    "data3=data2.set_index(\"cause\")\n",
    "data3.sort_values(by=\"total loss\",ascending=False)\n"
   ]
  },
  {
   "cell_type": "code",
   "execution_count": null,
   "id": "9a2057ef",
   "metadata": {},
   "outputs": [],
   "source": [
    "data3.plot(kind=\"bar\",color=\"y\")\n",
    "plt.title(\"Total loss per claim\")\n",
    "plt.show()"
   ]
  },
  {
   "cell_type": "code",
   "execution_count": null,
   "id": "cccf0fb2",
   "metadata": {},
   "outputs": [],
   "source": [
    "data[\"CAUSE\"].unique()"
   ]
  },
  {
   "cell_type": "code",
   "execution_count": null,
   "id": "f5009f06",
   "metadata": {},
   "outputs": [],
   "source": [
    "x=data[[\"DAY\",\"MONTH_ID\",\"YEAR\",\"GROSS INCURRED AMOUNT\"]]"
   ]
  },
  {
   "cell_type": "code",
   "execution_count": null,
   "id": "11c2177c",
   "metadata": {},
   "outputs": [],
   "source": [
    "x"
   ]
  },
  {
   "cell_type": "code",
   "execution_count": null,
   "id": "4b106d25",
   "metadata": {},
   "outputs": [],
   "source": [
    "y=data[[\"CAUSE\"]]"
   ]
  },
  {
   "cell_type": "code",
   "execution_count": null,
   "id": "75623b95",
   "metadata": {
    "scrolled": false
   },
   "outputs": [],
   "source": [
    "y"
   ]
  },
  {
   "cell_type": "code",
   "execution_count": null,
   "id": "e8d02c4c",
   "metadata": {},
   "outputs": [],
   "source": [
    "from sklearn.model_selection import train_test_split\n",
    "xtrain,xtest,ytrain,ytest=train_test_split(x,y,test_size=0.2,random_state=319)"
   ]
  },
  {
   "cell_type": "code",
   "execution_count": null,
   "id": "81f97393",
   "metadata": {},
   "outputs": [],
   "source": [
    "from sklearn.tree import DecisionTreeClassifier\n",
    "from sklearn.ensemble import AdaBoostClassifier,GradientBoostingClassifier,RandomForestClassifier\n",
    "from xgboost import XGBClassifier\n",
    "gb=GradientBoostingClassifier()\n",
    "dt=DecisionTreeClassifier()\n",
    "rf=RandomForestClassifier()\n",
    "xg=XGBClassifier()"
   ]
  },
  {
   "cell_type": "code",
   "execution_count": null,
   "id": "08faeacd",
   "metadata": {},
   "outputs": [],
   "source": [
    "from sklearn.metrics import classification_report\n",
    "def my_model(model):\n",
    "    model.fit(xtrain,ytrain)\n",
    "    y_pred_train=model.predict(xtrain)\n",
    "    y_pred_test=model.predict(xtest)\n",
    "    print('Train Data')\n",
    "    print(classification_report(ytrain,y_pred_train))\n",
    "    print('-'*30)\n",
    "    print('Test Data')\n",
    "    print(classification_report(ytest,y_pred_test))\n",
    "\n",
    "    return model"
   ]
  },
  {
   "cell_type": "code",
   "execution_count": null,
   "id": "e702b36d",
   "metadata": {},
   "outputs": [],
   "source": [
    "my_model(rf)"
   ]
  },
  {
   "cell_type": "code",
   "execution_count": null,
   "id": "d8e10c66",
   "metadata": {},
   "outputs": [],
   "source": [
    "my_model(dt)"
   ]
  },
  {
   "cell_type": "code",
   "execution_count": null,
   "id": "1b06fde7",
   "metadata": {},
   "outputs": [],
   "source": [
    "my_model(gb)"
   ]
  },
  {
   "cell_type": "code",
   "execution_count": null,
   "id": "5cc655be",
   "metadata": {},
   "outputs": [],
   "source": [
    "def predict():\n",
    "     day=int(input('Enter the day: '))\n",
    "     month_id=float(input('Enter The Month: '))\n",
    "     year=int(input('Enter the Year: ' ))\n",
    "     amount=int(input('Enter the amount of money claimed: '))\n",
    "     newobs=[[day,month_id,year,amount]]\n",
    "     ypred=gb.predict(newobs)[0]\n",
    "     return ypred"
   ]
  },
  {
   "cell_type": "code",
   "execution_count": null,
   "id": "e49cd527",
   "metadata": {},
   "outputs": [],
   "source": [
    "predict()"
   ]
  },
  {
   "cell_type": "code",
   "execution_count": null,
   "id": "11aad050",
   "metadata": {},
   "outputs": [],
   "source": []
  }
 ],
 "metadata": {
  "kernelspec": {
   "display_name": "Python 3 (ipykernel)",
   "language": "python",
   "name": "python3"
  },
  "language_info": {
   "codemirror_mode": {
    "name": "ipython",
    "version": 3
   },
   "file_extension": ".py",
   "mimetype": "text/x-python",
   "name": "python",
   "nbconvert_exporter": "python",
   "pygments_lexer": "ipython3",
   "version": "3.9.12"
  }
 },
 "nbformat": 4,
 "nbformat_minor": 5
}
